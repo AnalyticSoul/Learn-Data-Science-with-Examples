{
 "cells": [
  {
   "cell_type": "code",
   "execution_count": 1,
   "metadata": {},
   "outputs": [],
   "source": [
    "import pandas as pd\n",
    "\n",
    "import matplotlib.pyplot as plt\n",
    "%matplotlib inline"
   ]
  },
  {
   "cell_type": "code",
   "execution_count": 2,
   "metadata": {},
   "outputs": [
    {
     "name": "stdout",
     "output_type": "stream",
     "text": [
      "Dataset sample\n"
     ]
    },
    {
     "data": {
      "text/html": [
       "<div>\n",
       "<style scoped>\n",
       "    .dataframe tbody tr th:only-of-type {\n",
       "        vertical-align: middle;\n",
       "    }\n",
       "\n",
       "    .dataframe tbody tr th {\n",
       "        vertical-align: top;\n",
       "    }\n",
       "\n",
       "    .dataframe thead th {\n",
       "        text-align: right;\n",
       "    }\n",
       "</style>\n",
       "<table border=\"1\" class=\"dataframe\">\n",
       "  <thead>\n",
       "    <tr style=\"text-align: right;\">\n",
       "      <th></th>\n",
       "      <th>CustomerID</th>\n",
       "      <th>InvoiceNo</th>\n",
       "      <th>UnitPrice</th>\n",
       "      <th>Quantity</th>\n",
       "      <th>InvoiceDate</th>\n",
       "      <th>Country</th>\n",
       "    </tr>\n",
       "  </thead>\n",
       "  <tbody>\n",
       "    <tr>\n",
       "      <th>0</th>\n",
       "      <td>1</td>\n",
       "      <td>1001</td>\n",
       "      <td>11.087522</td>\n",
       "      <td>29.0</td>\n",
       "      <td>2022-01-23</td>\n",
       "      <td>Palau</td>\n",
       "    </tr>\n",
       "    <tr>\n",
       "      <th>1</th>\n",
       "      <td>1</td>\n",
       "      <td>1002</td>\n",
       "      <td>12.199651</td>\n",
       "      <td>37.0</td>\n",
       "      <td>2022-03-16</td>\n",
       "      <td>Georgia</td>\n",
       "    </tr>\n",
       "    <tr>\n",
       "      <th>2</th>\n",
       "      <td>2</td>\n",
       "      <td>1003</td>\n",
       "      <td>6.493275</td>\n",
       "      <td>38.0</td>\n",
       "      <td>2022-08-19</td>\n",
       "      <td>Russian Federation</td>\n",
       "    </tr>\n",
       "    <tr>\n",
       "      <th>3</th>\n",
       "      <td>2</td>\n",
       "      <td>1004</td>\n",
       "      <td>10.521084</td>\n",
       "      <td>31.0</td>\n",
       "      <td>2022-06-24</td>\n",
       "      <td>Vanuatu</td>\n",
       "    </tr>\n",
       "    <tr>\n",
       "      <th>4</th>\n",
       "      <td>3</td>\n",
       "      <td>1005</td>\n",
       "      <td>10.124396</td>\n",
       "      <td>33.0</td>\n",
       "      <td>2022-11-20</td>\n",
       "      <td>Papua New Guinea</td>\n",
       "    </tr>\n",
       "  </tbody>\n",
       "</table>\n",
       "</div>"
      ],
      "text/plain": [
       "   CustomerID  InvoiceNo  UnitPrice  Quantity InvoiceDate             Country\n",
       "0           1       1001  11.087522      29.0  2022-01-23               Palau\n",
       "1           1       1002  12.199651      37.0  2022-03-16             Georgia\n",
       "2           2       1003   6.493275      38.0  2022-08-19  Russian Federation\n",
       "3           2       1004  10.521084      31.0  2022-06-24             Vanuatu\n",
       "4           3       1005  10.124396      33.0  2022-11-20    Papua New Guinea"
      ]
     },
     "execution_count": 2,
     "metadata": {},
     "output_type": "execute_result"
    }
   ],
   "source": [
    "df_transactions = pd.read_csv('data/sample_transactions.csv', header=0)\n",
    "\n",
    "print('Dataset sample')\n",
    "df_transactions.head()"
   ]
  },
  {
   "cell_type": "code",
   "execution_count": 3,
   "metadata": {},
   "outputs": [
    {
     "name": "stdout",
     "output_type": "stream",
     "text": [
      "Dimension of the dataset\n",
      "(2000, 6)\n"
     ]
    }
   ],
   "source": [
    "print('Dimension of the dataset')\n",
    "print(df_transactions.shape)"
   ]
  },
  {
   "cell_type": "code",
   "execution_count": 4,
   "metadata": {},
   "outputs": [
    {
     "name": "stdout",
     "output_type": "stream",
     "text": [
      "        CustomerID    InvoiceNo    UnitPrice     Quantity\n",
      "count  2000.000000  2000.000000  2000.000000  2000.000000\n",
      "mean    500.500000  2000.500000     9.921153    30.238000\n",
      "std     288.747186   577.494589     2.003814     6.667277\n",
      "min       1.000000  1001.000000     3.476400     5.000000\n",
      "25%     250.750000  1500.750000     8.595850    26.000000\n",
      "50%     500.500000  2000.500000     9.921766    30.000000\n",
      "75%     750.250000  2500.250000    11.325910    35.000000\n",
      "max    1000.000000  3000.000000    17.015826    52.000000\n"
     ]
    }
   ],
   "source": [
    "# describe the numeric columns\n",
    "print(df_transactions.describe())"
   ]
  },
  {
   "cell_type": "code",
   "execution_count": 5,
   "metadata": {},
   "outputs": [
    {
     "data": {
      "text/html": [
       "<div>\n",
       "<style scoped>\n",
       "    .dataframe tbody tr th:only-of-type {\n",
       "        vertical-align: middle;\n",
       "    }\n",
       "\n",
       "    .dataframe tbody tr th {\n",
       "        vertical-align: top;\n",
       "    }\n",
       "\n",
       "    .dataframe thead th {\n",
       "        text-align: right;\n",
       "    }\n",
       "</style>\n",
       "<table border=\"1\" class=\"dataframe\">\n",
       "  <thead>\n",
       "    <tr style=\"text-align: right;\">\n",
       "      <th></th>\n",
       "      <th>CustomerID</th>\n",
       "      <th>InvoiceNo</th>\n",
       "      <th>UnitPrice</th>\n",
       "      <th>Quantity</th>\n",
       "      <th>InvoiceDate</th>\n",
       "      <th>Country</th>\n",
       "      <th>TotalPurchase</th>\n",
       "    </tr>\n",
       "  </thead>\n",
       "  <tbody>\n",
       "    <tr>\n",
       "      <th>0</th>\n",
       "      <td>1</td>\n",
       "      <td>1001</td>\n",
       "      <td>11.087522</td>\n",
       "      <td>29.0</td>\n",
       "      <td>2022-01-23</td>\n",
       "      <td>Palau</td>\n",
       "      <td>321.538124</td>\n",
       "    </tr>\n",
       "    <tr>\n",
       "      <th>1</th>\n",
       "      <td>1</td>\n",
       "      <td>1002</td>\n",
       "      <td>12.199651</td>\n",
       "      <td>37.0</td>\n",
       "      <td>2022-03-16</td>\n",
       "      <td>Georgia</td>\n",
       "      <td>451.387102</td>\n",
       "    </tr>\n",
       "    <tr>\n",
       "      <th>2</th>\n",
       "      <td>2</td>\n",
       "      <td>1003</td>\n",
       "      <td>6.493275</td>\n",
       "      <td>38.0</td>\n",
       "      <td>2022-08-19</td>\n",
       "      <td>Russian Federation</td>\n",
       "      <td>246.744464</td>\n",
       "    </tr>\n",
       "    <tr>\n",
       "      <th>3</th>\n",
       "      <td>2</td>\n",
       "      <td>1004</td>\n",
       "      <td>10.521084</td>\n",
       "      <td>31.0</td>\n",
       "      <td>2022-06-24</td>\n",
       "      <td>Vanuatu</td>\n",
       "      <td>326.153615</td>\n",
       "    </tr>\n",
       "    <tr>\n",
       "      <th>4</th>\n",
       "      <td>3</td>\n",
       "      <td>1005</td>\n",
       "      <td>10.124396</td>\n",
       "      <td>33.0</td>\n",
       "      <td>2022-11-20</td>\n",
       "      <td>Papua New Guinea</td>\n",
       "      <td>334.105082</td>\n",
       "    </tr>\n",
       "  </tbody>\n",
       "</table>\n",
       "</div>"
      ],
      "text/plain": [
       "   CustomerID  InvoiceNo  UnitPrice  Quantity InvoiceDate             Country  \\\n",
       "0           1       1001  11.087522      29.0  2022-01-23               Palau   \n",
       "1           1       1002  12.199651      37.0  2022-03-16             Georgia   \n",
       "2           2       1003   6.493275      38.0  2022-08-19  Russian Federation   \n",
       "3           2       1004  10.521084      31.0  2022-06-24             Vanuatu   \n",
       "4           3       1005  10.124396      33.0  2022-11-20    Papua New Guinea   \n",
       "\n",
       "   TotalPurchase  \n",
       "0     321.538124  \n",
       "1     451.387102  \n",
       "2     246.744464  \n",
       "3     326.153615  \n",
       "4     334.105082  "
      ]
     },
     "execution_count": 5,
     "metadata": {},
     "output_type": "execute_result"
    }
   ],
   "source": [
    "# Calculate total purchase amount per customer\n",
    "df_transactions['TotalPurchase'] = df_transactions['UnitPrice'] * df_transactions['Quantity']\n",
    "\n",
    "df_transactions.head()"
   ]
  },
  {
   "cell_type": "code",
   "execution_count": 6,
   "metadata": {},
   "outputs": [
    {
     "data": {
      "text/html": [
       "<div>\n",
       "<style scoped>\n",
       "    .dataframe tbody tr th:only-of-type {\n",
       "        vertical-align: middle;\n",
       "    }\n",
       "\n",
       "    .dataframe tbody tr th {\n",
       "        vertical-align: top;\n",
       "    }\n",
       "\n",
       "    .dataframe thead th {\n",
       "        text-align: right;\n",
       "    }\n",
       "</style>\n",
       "<table border=\"1\" class=\"dataframe\">\n",
       "  <thead>\n",
       "    <tr style=\"text-align: right;\">\n",
       "      <th></th>\n",
       "      <th>CustomerID</th>\n",
       "      <th>InvoiceNo</th>\n",
       "      <th>UnitPrice</th>\n",
       "      <th>Quantity</th>\n",
       "      <th>TotalPurchase</th>\n",
       "    </tr>\n",
       "  </thead>\n",
       "  <tbody>\n",
       "    <tr>\n",
       "      <th>count</th>\n",
       "      <td>2000.000000</td>\n",
       "      <td>2000.000000</td>\n",
       "      <td>2000.000000</td>\n",
       "      <td>2000.000000</td>\n",
       "      <td>2000.000000</td>\n",
       "    </tr>\n",
       "    <tr>\n",
       "      <th>mean</th>\n",
       "      <td>500.500000</td>\n",
       "      <td>2000.500000</td>\n",
       "      <td>9.921153</td>\n",
       "      <td>30.238000</td>\n",
       "      <td>291.356420</td>\n",
       "    </tr>\n",
       "    <tr>\n",
       "      <th>std</th>\n",
       "      <td>288.747186</td>\n",
       "      <td>577.494589</td>\n",
       "      <td>2.003814</td>\n",
       "      <td>6.667277</td>\n",
       "      <td>56.432400</td>\n",
       "    </tr>\n",
       "    <tr>\n",
       "      <th>min</th>\n",
       "      <td>1.000000</td>\n",
       "      <td>1001.000000</td>\n",
       "      <td>3.476400</td>\n",
       "      <td>5.000000</td>\n",
       "      <td>78.364543</td>\n",
       "    </tr>\n",
       "    <tr>\n",
       "      <th>25%</th>\n",
       "      <td>250.750000</td>\n",
       "      <td>1500.750000</td>\n",
       "      <td>8.595850</td>\n",
       "      <td>26.000000</td>\n",
       "      <td>253.052342</td>\n",
       "    </tr>\n",
       "    <tr>\n",
       "      <th>50%</th>\n",
       "      <td>500.500000</td>\n",
       "      <td>2000.500000</td>\n",
       "      <td>9.921766</td>\n",
       "      <td>30.000000</td>\n",
       "      <td>288.859888</td>\n",
       "    </tr>\n",
       "    <tr>\n",
       "      <th>75%</th>\n",
       "      <td>750.250000</td>\n",
       "      <td>2500.250000</td>\n",
       "      <td>11.325910</td>\n",
       "      <td>35.000000</td>\n",
       "      <td>329.541234</td>\n",
       "    </tr>\n",
       "    <tr>\n",
       "      <th>max</th>\n",
       "      <td>1000.000000</td>\n",
       "      <td>3000.000000</td>\n",
       "      <td>17.015826</td>\n",
       "      <td>52.000000</td>\n",
       "      <td>499.452300</td>\n",
       "    </tr>\n",
       "  </tbody>\n",
       "</table>\n",
       "</div>"
      ],
      "text/plain": [
       "        CustomerID    InvoiceNo    UnitPrice     Quantity  TotalPurchase\n",
       "count  2000.000000  2000.000000  2000.000000  2000.000000    2000.000000\n",
       "mean    500.500000  2000.500000     9.921153    30.238000     291.356420\n",
       "std     288.747186   577.494589     2.003814     6.667277      56.432400\n",
       "min       1.000000  1001.000000     3.476400     5.000000      78.364543\n",
       "25%     250.750000  1500.750000     8.595850    26.000000     253.052342\n",
       "50%     500.500000  2000.500000     9.921766    30.000000     288.859888\n",
       "75%     750.250000  2500.250000    11.325910    35.000000     329.541234\n",
       "max    1000.000000  3000.000000    17.015826    52.000000     499.452300"
      ]
     },
     "execution_count": 6,
     "metadata": {},
     "output_type": "execute_result"
    }
   ],
   "source": [
    "df_transactions.describe()"
   ]
  },
  {
   "cell_type": "code",
   "execution_count": 7,
   "metadata": {},
   "outputs": [
    {
     "name": "stdout",
     "output_type": "stream",
     "text": [
      "Minimum Quantity: 30.238\n",
      "Maximum Quantity: 52.0\n"
     ]
    }
   ],
   "source": [
    "# Accessing single column\n",
    "# Understanding the range of quantity\n",
    "quantity = df_transactions['Quantity']\n",
    "print('Minimum Quantity:', quantity.mean())\n",
    "print('Maximum Quantity:', quantity.max())\n",
    "\n",
    "# Take a look at the distinct countries\n",
    "country = df_transactions['Country']\n",
    "# print('Distinct countries:', country.unique())"
   ]
  },
  {
   "cell_type": "code",
   "execution_count": 8,
   "metadata": {},
   "outputs": [
    {
     "data": {
      "image/png": "[encoded data removed]",
      "text/plain": [
       "<Figure size 1000x600 with 1 Axes>"
      ]
     },
     "metadata": {},
     "output_type": "display_data"
    }
   ],
   "source": [
    "# Group by CustomerID and sum the total purchase amount\n",
    "customer_total_purchase = df_transactions.groupby('CustomerID')['TotalPurchase'].sum()\n",
    "\n",
    "# Get the top 10 customers\n",
    "top_10_customers = customer_total_purchase.nlargest(10)\n",
    "\n",
    "# Show the top 10 customers\n",
    "plt.figure(figsize=(10, 6))\n",
    "top_10_customers.plot(kind='bar')\n",
    "plt.xlabel('Count')\n",
    "plt.ylabel('CustomerID')\n",
    "plt.show()"
   ]
  },
  {
   "cell_type": "code",
   "execution_count": 9,
   "metadata": {},
   "outputs": [
    {
     "data": {
      "text/html": [
       "<div>\n",
       "<style scoped>\n",
       "    .dataframe tbody tr th:only-of-type {\n",
       "        vertical-align: middle;\n",
       "    }\n",
       "\n",
       "    .dataframe tbody tr th {\n",
       "        vertical-align: top;\n",
       "    }\n",
       "\n",
       "    .dataframe thead th {\n",
       "        text-align: right;\n",
       "    }\n",
       "</style>\n",
       "<table border=\"1\" class=\"dataframe\">\n",
       "  <thead>\n",
       "    <tr style=\"text-align: right;\">\n",
       "      <th></th>\n",
       "      <th>CustomerID</th>\n",
       "      <th>InvoiceNo</th>\n",
       "      <th>UnitPrice</th>\n",
       "      <th>Quantity</th>\n",
       "      <th>InvoiceDate</th>\n",
       "      <th>Country</th>\n",
       "      <th>TotalPurchase</th>\n",
       "    </tr>\n",
       "  </thead>\n",
       "  <tbody>\n",
       "    <tr>\n",
       "      <th>816</th>\n",
       "      <td>409</td>\n",
       "      <td>1817</td>\n",
       "      <td>11.275259</td>\n",
       "      <td>37.0</td>\n",
       "      <td>2022-08-11</td>\n",
       "      <td>United Kingdom</td>\n",
       "      <td>417.184582</td>\n",
       "    </tr>\n",
       "    <tr>\n",
       "      <th>886</th>\n",
       "      <td>444</td>\n",
       "      <td>1887</td>\n",
       "      <td>11.918346</td>\n",
       "      <td>36.0</td>\n",
       "      <td>2022-04-15</td>\n",
       "      <td>United Kingdom</td>\n",
       "      <td>429.060466</td>\n",
       "    </tr>\n",
       "    <tr>\n",
       "      <th>1357</th>\n",
       "      <td>679</td>\n",
       "      <td>2358</td>\n",
       "      <td>7.769012</td>\n",
       "      <td>40.0</td>\n",
       "      <td>2022-07-14</td>\n",
       "      <td>United Kingdom</td>\n",
       "      <td>310.760481</td>\n",
       "    </tr>\n",
       "    <tr>\n",
       "      <th>1963</th>\n",
       "      <td>982</td>\n",
       "      <td>2964</td>\n",
       "      <td>9.206207</td>\n",
       "      <td>40.0</td>\n",
       "      <td>2022-01-02</td>\n",
       "      <td>United Kingdom</td>\n",
       "      <td>368.248264</td>\n",
       "    </tr>\n",
       "  </tbody>\n",
       "</table>\n",
       "</div>"
      ],
      "text/plain": [
       "      CustomerID  InvoiceNo  UnitPrice  Quantity InvoiceDate         Country  \\\n",
       "816          409       1817  11.275259      37.0  2022-08-11  United Kingdom   \n",
       "886          444       1887  11.918346      36.0  2022-04-15  United Kingdom   \n",
       "1357         679       2358   7.769012      40.0  2022-07-14  United Kingdom   \n",
       "1963         982       2964   9.206207      40.0  2022-01-02  United Kingdom   \n",
       "\n",
       "      TotalPurchase  \n",
       "816      417.184582  \n",
       "886      429.060466  \n",
       "1357     310.760481  \n",
       "1963     368.248264  "
      ]
     },
     "execution_count": 9,
     "metadata": {},
     "output_type": "execute_result"
    }
   ],
   "source": [
    "# Filtering\n",
    "result = df_transactions.query('Quantity >= 30 & Country == \"United Kingdom\"')\n",
    "result.head()"
   ]
  },
  {
   "cell_type": "code",
   "execution_count": 10,
   "metadata": {},
   "outputs": [
    {
     "name": "stdout",
     "output_type": "stream",
     "text": [
      "Step 1: masking\n",
      "0       False\n",
      "1       False\n",
      "2       False\n",
      "3       False\n",
      "4       False\n",
      "        ...  \n",
      "1995    False\n",
      "1996    False\n",
      "1997    False\n",
      "1998    False\n",
      "1999    False\n",
      "Length: 2000, dtype: bool\n"
     ]
    }
   ],
   "source": [
    "mask = (df_transactions['Quantity'] >= 30) & (df_transactions['Country'] == 'United Kingdom')\n",
    "\n",
    "print('Step 1: masking')\n",
    "print(mask)"
   ]
  },
  {
   "cell_type": "code",
   "execution_count": 11,
   "metadata": {},
   "outputs": [
    {
     "name": "stdout",
     "output_type": "stream",
     "text": [
      "\n",
      "Step 2: filter with mask\n"
     ]
    },
    {
     "data": {
      "text/html": [
       "<div>\n",
       "<style scoped>\n",
       "    .dataframe tbody tr th:only-of-type {\n",
       "        vertical-align: middle;\n",
       "    }\n",
       "\n",
       "    .dataframe tbody tr th {\n",
       "        vertical-align: top;\n",
       "    }\n",
       "\n",
       "    .dataframe thead th {\n",
       "        text-align: right;\n",
       "    }\n",
       "</style>\n",
       "<table border=\"1\" class=\"dataframe\">\n",
       "  <thead>\n",
       "    <tr style=\"text-align: right;\">\n",
       "      <th></th>\n",
       "      <th>CustomerID</th>\n",
       "      <th>InvoiceNo</th>\n",
       "      <th>UnitPrice</th>\n",
       "      <th>Quantity</th>\n",
       "      <th>InvoiceDate</th>\n",
       "      <th>Country</th>\n",
       "      <th>TotalPurchase</th>\n",
       "    </tr>\n",
       "  </thead>\n",
       "  <tbody>\n",
       "    <tr>\n",
       "      <th>816</th>\n",
       "      <td>409</td>\n",
       "      <td>1817</td>\n",
       "      <td>11.275259</td>\n",
       "      <td>37.0</td>\n",
       "      <td>2022-08-11</td>\n",
       "      <td>United Kingdom</td>\n",
       "      <td>417.184582</td>\n",
       "    </tr>\n",
       "    <tr>\n",
       "      <th>886</th>\n",
       "      <td>444</td>\n",
       "      <td>1887</td>\n",
       "      <td>11.918346</td>\n",
       "      <td>36.0</td>\n",
       "      <td>2022-04-15</td>\n",
       "      <td>United Kingdom</td>\n",
       "      <td>429.060466</td>\n",
       "    </tr>\n",
       "    <tr>\n",
       "      <th>1357</th>\n",
       "      <td>679</td>\n",
       "      <td>2358</td>\n",
       "      <td>7.769012</td>\n",
       "      <td>40.0</td>\n",
       "      <td>2022-07-14</td>\n",
       "      <td>United Kingdom</td>\n",
       "      <td>310.760481</td>\n",
       "    </tr>\n",
       "    <tr>\n",
       "      <th>1963</th>\n",
       "      <td>982</td>\n",
       "      <td>2964</td>\n",
       "      <td>9.206207</td>\n",
       "      <td>40.0</td>\n",
       "      <td>2022-01-02</td>\n",
       "      <td>United Kingdom</td>\n",
       "      <td>368.248264</td>\n",
       "    </tr>\n",
       "  </tbody>\n",
       "</table>\n",
       "</div>"
      ],
      "text/plain": [
       "      CustomerID  InvoiceNo  UnitPrice  Quantity InvoiceDate         Country  \\\n",
       "816          409       1817  11.275259      37.0  2022-08-11  United Kingdom   \n",
       "886          444       1887  11.918346      36.0  2022-04-15  United Kingdom   \n",
       "1357         679       2358   7.769012      40.0  2022-07-14  United Kingdom   \n",
       "1963         982       2964   9.206207      40.0  2022-01-02  United Kingdom   \n",
       "\n",
       "      TotalPurchase  \n",
       "816      417.184582  \n",
       "886      429.060466  \n",
       "1357     310.760481  \n",
       "1963     368.248264  "
      ]
     },
     "execution_count": 11,
     "metadata": {},
     "output_type": "execute_result"
    }
   ],
   "source": [
    "result = df_transactions[mask]\n",
    "print('\\nStep 2: filter with mask')\n",
    "result.head()"
   ]
  },
  {
   "cell_type": "code",
   "execution_count": null,
   "metadata": {},
   "outputs": [],
   "source": []
  }
 ],
 "metadata": {
  "kernelspec": {
   "display_name": "Python 3.10.4 64-bit",
   "language": "python",
   "name": "python3"
  },
  "language_info": {
   "codemirror_mode": {
    "name": "ipython",
    "version": 3
   },
   "file_extension": ".py",
   "mimetype": "text/x-python",
   "name": "python",
   "nbconvert_exporter": "python",
   "pygments_lexer": "ipython3",
   "version": "3.10.13"
  },
  "orig_nbformat": 4,
  "vscode": {
   "interpreter": {
    "hash": "78ce49e42d7c492c79e6a8d653ea533a45a9eef8de4464c070b5cead8310fec0"
   }
  }
 },
 "nbformat": 4,
 "nbformat_minor": 2
}
