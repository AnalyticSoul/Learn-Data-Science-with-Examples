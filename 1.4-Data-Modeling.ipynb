{
 "cells": [
  {
   "cell_type": "code",
   "execution_count": 1,
   "metadata": {},
   "outputs": [],
   "source": [
    "import pandas as pd\n",
    "import matplotlib.pyplot as plt\n",
    "%matplotlib inline\n",
    "\n",
    "df_transactions = pd.read_csv('data/mock_transactions.csv', header=0)\n",
    "df_customers = pd.read_csv('data/mock_customers.csv', header=0)"
   ]
  },
  {
   "cell_type": "markdown",
   "metadata": {},
   "source": [
    "#### Accessing the datasets"
   ]
  },
  {
   "cell_type": "code",
   "execution_count": 2,
   "metadata": {},
   "outputs": [
    {
     "data": {
      "text/plain": [
       "(20, 5)"
      ]
     },
     "execution_count": 2,
     "metadata": {},
     "output_type": "execute_result"
    }
   ],
   "source": [
    "df_transactions.shape"
   ]
  },
  {
   "cell_type": "code",
   "execution_count": 3,
   "metadata": {},
   "outputs": [
    {
     "data": {
      "text/html": [
       "<div>\n",
       "<style scoped>\n",
       "    .dataframe tbody tr th:only-of-type {\n",
       "        vertical-align: middle;\n",
       "    }\n",
       "\n",
       "    .dataframe tbody tr th {\n",
       "        vertical-align: top;\n",
       "    }\n",
       "\n",
       "    .dataframe thead th {\n",
       "        text-align: right;\n",
       "    }\n",
       "</style>\n",
       "<table border=\"1\" class=\"dataframe\">\n",
       "  <thead>\n",
       "    <tr style=\"text-align: right;\">\n",
       "      <th></th>\n",
       "      <th>InvoiceNo</th>\n",
       "      <th>Quantity</th>\n",
       "      <th>InvoiceDate</th>\n",
       "      <th>UnitPrice</th>\n",
       "      <th>CustomerID</th>\n",
       "    </tr>\n",
       "  </thead>\n",
       "  <tbody>\n",
       "    <tr>\n",
       "      <th>0</th>\n",
       "      <td>536365</td>\n",
       "      <td>2</td>\n",
       "      <td>01-12-19</td>\n",
       "      <td>NaN</td>\n",
       "      <td>17850</td>\n",
       "    </tr>\n",
       "    <tr>\n",
       "      <th>1</th>\n",
       "      <td>536365</td>\n",
       "      <td>6</td>\n",
       "      <td>01-12-19</td>\n",
       "      <td>3.39</td>\n",
       "      <td>17850</td>\n",
       "    </tr>\n",
       "    <tr>\n",
       "      <th>2</th>\n",
       "      <td>536365</td>\n",
       "      <td>6</td>\n",
       "      <td>01-12-19</td>\n",
       "      <td>4.25</td>\n",
       "      <td>17850</td>\n",
       "    </tr>\n",
       "    <tr>\n",
       "      <th>3</th>\n",
       "      <td>536366</td>\n",
       "      <td>6</td>\n",
       "      <td>01-12-19</td>\n",
       "      <td>1.85</td>\n",
       "      <td>17850</td>\n",
       "    </tr>\n",
       "    <tr>\n",
       "      <th>4</th>\n",
       "      <td>536366</td>\n",
       "      <td>6</td>\n",
       "      <td>01-12-19</td>\n",
       "      <td>1.85</td>\n",
       "      <td>17850</td>\n",
       "    </tr>\n",
       "  </tbody>\n",
       "</table>\n",
       "</div>"
      ],
      "text/plain": [
       "   InvoiceNo  Quantity InvoiceDate  UnitPrice  CustomerID\n",
       "0     536365         2    01-12-19        NaN       17850\n",
       "1     536365         6    01-12-19       3.39       17850\n",
       "2     536365         6    01-12-19       4.25       17850\n",
       "3     536366         6    01-12-19       1.85       17850\n",
       "4     536366         6    01-12-19       1.85       17850"
      ]
     },
     "execution_count": 3,
     "metadata": {},
     "output_type": "execute_result"
    }
   ],
   "source": [
    "df_transactions.head()  # .tail()"
   ]
  },
  {
   "cell_type": "code",
   "execution_count": 4,
   "metadata": {},
   "outputs": [
    {
     "data": {
      "text/plain": [
       "(8, 4)"
      ]
     },
     "execution_count": 4,
     "metadata": {},
     "output_type": "execute_result"
    }
   ],
   "source": [
    "df_customers.shape"
   ]
  },
  {
   "cell_type": "code",
   "execution_count": 5,
   "metadata": {},
   "outputs": [
    {
     "data": {
      "text/html": [
       "<div>\n",
       "<style scoped>\n",
       "    .dataframe tbody tr th:only-of-type {\n",
       "        vertical-align: middle;\n",
       "    }\n",
       "\n",
       "    .dataframe tbody tr th {\n",
       "        vertical-align: top;\n",
       "    }\n",
       "\n",
       "    .dataframe thead th {\n",
       "        text-align: right;\n",
       "    }\n",
       "</style>\n",
       "<table border=\"1\" class=\"dataframe\">\n",
       "  <thead>\n",
       "    <tr style=\"text-align: right;\">\n",
       "      <th></th>\n",
       "      <th>CustomerID</th>\n",
       "      <th>Customer Name</th>\n",
       "      <th>Gendar</th>\n",
       "      <th>Email</th>\n",
       "    </tr>\n",
       "  </thead>\n",
       "  <tbody>\n",
       "    <tr>\n",
       "      <th>0</th>\n",
       "      <td>17850</td>\n",
       "      <td>Christopher Hudson</td>\n",
       "      <td>M</td>\n",
       "      <td>Christopher.Hudson@email.com</td>\n",
       "    </tr>\n",
       "    <tr>\n",
       "      <th>1</th>\n",
       "      <td>13047</td>\n",
       "      <td>Stacy Davis</td>\n",
       "      <td>F</td>\n",
       "      <td>Stacy.Davis@email.com</td>\n",
       "    </tr>\n",
       "    <tr>\n",
       "      <th>2</th>\n",
       "      <td>18263</td>\n",
       "      <td>Alisha Gray</td>\n",
       "      <td>F</td>\n",
       "      <td>Alisha.Gray@email.com</td>\n",
       "    </tr>\n",
       "    <tr>\n",
       "      <th>3</th>\n",
       "      <td>15932</td>\n",
       "      <td>Joseph Bennett</td>\n",
       "      <td>M</td>\n",
       "      <td>Joseph.Bennett@email.com</td>\n",
       "    </tr>\n",
       "    <tr>\n",
       "      <th>4</th>\n",
       "      <td>14527</td>\n",
       "      <td>Jessica Aguilar</td>\n",
       "      <td>F</td>\n",
       "      <td>Jessica.Aguilar@email.com</td>\n",
       "    </tr>\n",
       "  </tbody>\n",
       "</table>\n",
       "</div>"
      ],
      "text/plain": [
       "   CustomerID       Customer Name Gendar                         Email\n",
       "0       17850  Christopher Hudson      M  Christopher.Hudson@email.com\n",
       "1       13047         Stacy Davis      F         Stacy.Davis@email.com\n",
       "2       18263         Alisha Gray      F         Alisha.Gray@email.com\n",
       "3       15932      Joseph Bennett      M      Joseph.Bennett@email.com\n",
       "4       14527     Jessica Aguilar      F     Jessica.Aguilar@email.com"
      ]
     },
     "execution_count": 5,
     "metadata": {},
     "output_type": "execute_result"
    }
   ],
   "source": [
    "df_customers.head()"
   ]
  },
  {
   "cell_type": "markdown",
   "metadata": {},
   "source": [
    "### Joining"
   ]
  },
  {
   "cell_type": "code",
   "execution_count": 6,
   "metadata": {},
   "outputs": [
    {
     "name": "stdout",
     "output_type": "stream",
     "text": [
      "(20, 8)\n"
     ]
    },
    {
     "data": {
      "text/html": [
       "<div>\n",
       "<style scoped>\n",
       "    .dataframe tbody tr th:only-of-type {\n",
       "        vertical-align: middle;\n",
       "    }\n",
       "\n",
       "    .dataframe tbody tr th {\n",
       "        vertical-align: top;\n",
       "    }\n",
       "\n",
       "    .dataframe thead th {\n",
       "        text-align: right;\n",
       "    }\n",
       "</style>\n",
       "<table border=\"1\" class=\"dataframe\">\n",
       "  <thead>\n",
       "    <tr style=\"text-align: right;\">\n",
       "      <th></th>\n",
       "      <th>InvoiceNo</th>\n",
       "      <th>Quantity</th>\n",
       "      <th>InvoiceDate</th>\n",
       "      <th>UnitPrice</th>\n",
       "      <th>CustomerID</th>\n",
       "      <th>Customer Name</th>\n",
       "      <th>Gendar</th>\n",
       "      <th>Email</th>\n",
       "    </tr>\n",
       "  </thead>\n",
       "  <tbody>\n",
       "    <tr>\n",
       "      <th>0</th>\n",
       "      <td>536365</td>\n",
       "      <td>2</td>\n",
       "      <td>01-12-19</td>\n",
       "      <td>NaN</td>\n",
       "      <td>17850</td>\n",
       "      <td>Christopher Hudson</td>\n",
       "      <td>M</td>\n",
       "      <td>Christopher.Hudson@email.com</td>\n",
       "    </tr>\n",
       "    <tr>\n",
       "      <th>1</th>\n",
       "      <td>536365</td>\n",
       "      <td>6</td>\n",
       "      <td>01-12-19</td>\n",
       "      <td>3.39</td>\n",
       "      <td>17850</td>\n",
       "      <td>Christopher Hudson</td>\n",
       "      <td>M</td>\n",
       "      <td>Christopher.Hudson@email.com</td>\n",
       "    </tr>\n",
       "    <tr>\n",
       "      <th>2</th>\n",
       "      <td>536365</td>\n",
       "      <td>6</td>\n",
       "      <td>01-12-19</td>\n",
       "      <td>4.25</td>\n",
       "      <td>17850</td>\n",
       "      <td>Christopher Hudson</td>\n",
       "      <td>M</td>\n",
       "      <td>Christopher.Hudson@email.com</td>\n",
       "    </tr>\n",
       "    <tr>\n",
       "      <th>3</th>\n",
       "      <td>536366</td>\n",
       "      <td>6</td>\n",
       "      <td>01-12-19</td>\n",
       "      <td>1.85</td>\n",
       "      <td>17850</td>\n",
       "      <td>Christopher Hudson</td>\n",
       "      <td>M</td>\n",
       "      <td>Christopher.Hudson@email.com</td>\n",
       "    </tr>\n",
       "    <tr>\n",
       "      <th>4</th>\n",
       "      <td>536366</td>\n",
       "      <td>6</td>\n",
       "      <td>01-12-19</td>\n",
       "      <td>1.85</td>\n",
       "      <td>17850</td>\n",
       "      <td>Christopher Hudson</td>\n",
       "      <td>M</td>\n",
       "      <td>Christopher.Hudson@email.com</td>\n",
       "    </tr>\n",
       "  </tbody>\n",
       "</table>\n",
       "</div>"
      ],
      "text/plain": [
       "   InvoiceNo  Quantity InvoiceDate  UnitPrice  CustomerID       Customer Name  \\\n",
       "0     536365         2    01-12-19        NaN       17850  Christopher Hudson   \n",
       "1     536365         6    01-12-19       3.39       17850  Christopher Hudson   \n",
       "2     536365         6    01-12-19       4.25       17850  Christopher Hudson   \n",
       "3     536366         6    01-12-19       1.85       17850  Christopher Hudson   \n",
       "4     536366         6    01-12-19       1.85       17850  Christopher Hudson   \n",
       "\n",
       "  Gendar                         Email  \n",
       "0      M  Christopher.Hudson@email.com  \n",
       "1      M  Christopher.Hudson@email.com  \n",
       "2      M  Christopher.Hudson@email.com  \n",
       "3      M  Christopher.Hudson@email.com  \n",
       "4      M  Christopher.Hudson@email.com  "
      ]
     },
     "execution_count": 6,
     "metadata": {},
     "output_type": "execute_result"
    }
   ],
   "source": [
    "df_combined = df_transactions.merge(right=df_customers, how='left', on='CustomerID')\n",
    "print(df_combined.shape)\n",
    "df_combined.head()"
   ]
  },
  {
   "cell_type": "code",
   "execution_count": null,
   "metadata": {},
   "outputs": [],
   "source": []
  }
 ],
 "metadata": {
  "kernelspec": {
   "display_name": "Python 3.7.12 ('ds')",
   "language": "python",
   "name": "python3"
  },
  "language_info": {
   "codemirror_mode": {
    "name": "ipython",
    "version": 3
   },
   "file_extension": ".py",
   "mimetype": "text/x-python",
   "name": "python",
   "nbconvert_exporter": "python",
   "pygments_lexer": "ipython3",
   "version": "3.7.12"
  },
  "orig_nbformat": 4,
  "vscode": {
   "interpreter": {
    "hash": "7e5c852dab002c4f1b9fdd48fd978173739f156e4ed9fadb48d957f04e91d0c5"
   }
  }
 },
 "nbformat": 4,
 "nbformat_minor": 2
}
