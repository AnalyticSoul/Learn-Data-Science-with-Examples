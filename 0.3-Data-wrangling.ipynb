{
 "cells": [
  {
   "cell_type": "code",
   "execution_count": 7,
   "metadata": {},
   "outputs": [],
   "source": [
    "import pandas as pd\n",
    "\n",
    "import matplotlib.pyplot as plt\n",
    "%matplotlib inline"
   ]
  },
  {
   "cell_type": "code",
   "execution_count": 24,
   "metadata": {},
   "outputs": [
    {
     "name": "stdout",
     "output_type": "stream",
     "text": [
      "Count number of missing values\n",
      "CustomerID       0\n",
      "InvoiceNo        9\n",
      "UnitPrice        0\n",
      "Quantity       410\n",
      "InvoiceDate     16\n",
      "dtype: int64\n"
     ]
    }
   ],
   "source": [
    "# load the dataset\n",
    "df_transactions = pd.read_csv('synthetic_transactions_with_null.csv', header=0)\n",
    "\n",
    "# count number of missing values\n",
    "print('Count number of missing values')\n",
    "print(df_transactions.isna().sum())"
   ]
  },
  {
   "cell_type": "code",
   "execution_count": 25,
   "metadata": {},
   "outputs": [
    {
     "name": "stdout",
     "output_type": "stream",
     "text": [
      "<class 'pandas.core.frame.DataFrame'>\n",
      "RangeIndex: 1000 entries, 0 to 999\n",
      "Data columns (total 5 columns):\n",
      " #   Column       Non-Null Count  Dtype  \n",
      "---  ------       --------------  -----  \n",
      " 0   CustomerID   1000 non-null   int64  \n",
      " 1   InvoiceNo    991 non-null    float64\n",
      " 2   UnitPrice    1000 non-null   float64\n",
      " 3   Quantity     590 non-null    float64\n",
      " 4   InvoiceDate  984 non-null    object \n",
      "dtypes: float64(3), int64(1), object(1)\n",
      "memory usage: 39.2+ KB\n"
     ]
    }
   ],
   "source": [
    "# get a summary of the dataframe with not-null-count for each column\n",
    "df_transactions.info()"
   ]
  },
  {
   "cell_type": "code",
   "execution_count": 9,
   "metadata": {},
   "outputs": [
    {
     "name": "stdout",
     "output_type": "stream",
     "text": [
      "Records with missing unit-price\n",
      "Empty DataFrame\n",
      "Columns: [CustomerID, InvoiceNo, UnitPrice, Quantity, InvoiceDate, Country]\n",
      "Index: []\n",
      "Impute missing values with median of that column\n",
      "Empty DataFrame\n",
      "Columns: [CustomerID, InvoiceNo, UnitPrice, Quantity, InvoiceDate, Country]\n",
      "Index: []\n"
     ]
    }
   ],
   "source": [
    "\n",
    "# show records with missing value\n",
    "print('Records with missing unit-price')\n",
    "df_missing = df_transactions[df_transactions['UnitPrice'].isna() == True]\n",
    "print(df_missing)\n",
    "\n",
    "# impute missing values with median of that column\n",
    "print('Impute missing values with median of that column')\n",
    "df_imputed = df_missing.fillna(df_transactions['UnitPrice'].median())\n",
    "print(df_imputed)"
   ]
  },
  {
   "cell_type": "markdown",
   "metadata": {},
   "source": [
    "### Fake Data"
   ]
  },
  {
   "cell_type": "code",
   "execution_count": 26,
   "metadata": {},
   "outputs": [],
   "source": [
    "import pandas as pd\n",
    "import numpy as np\n",
    "import datetime\n",
    "\n",
    "# Generate synthetic data\n",
    "n_samples = 1000\n",
    "\n",
    "# Customer IDs\n",
    "customer_ids = np.arange(1, n_samples + 1)\n",
    "\n",
    "# Invoice numbers\n",
    "invoice_numbers = np.arange(100001, 100001 + n_samples)\n",
    "\n",
    "# Unit prices (randomly sampled from a normal distribution)\n",
    "unit_prices = np.random.normal(loc=10, scale=2, size=n_samples)\n",
    "\n",
    "# Quantities (positively correlated with unit prices)\n",
    "quantities = np.round(50 - 2 * unit_prices + np.random.normal(scale=5, size=n_samples))\n",
    "\n",
    "# Invoice dates (simulated time series)\n",
    "start_date = datetime.datetime(2022, 1, 1)\n",
    "end_date = datetime.datetime(2022, 12, 31)\n",
    "invoice_dates = np.random.choice(pd.date_range(start_date, end_date, freq='D'), size=n_samples)\n",
    "\n",
    "# Create the DataFrame\n",
    "df_transactions = pd.DataFrame({\n",
    "    'CustomerID': customer_ids,\n",
    "    'InvoiceNo': invoice_numbers,\n",
    "    'UnitPrice': unit_prices,\n",
    "    'Quantity': quantities,\n",
    "    'InvoiceDate': invoice_dates\n",
    "})\n",
    "\n",
    "# Introduce random missing values\n",
    "missing_prob = 0.15  # 10% probability of missing values\n",
    "rows_to_set_missing = np.random.choice(df_transactions.index, size=int(missing_prob * len(df_transactions)), replace=False)\n",
    "cols_to_set_missing = np.random.choice(df_transactions.columns[1:], size=int(missing_prob * (len(df_transactions.columns) - 1)), replace=False)\n",
    "df_transactions.loc[rows_to_set_missing, cols_to_set_missing] = None\n",
    "\n",
    "# Save to CSV\n",
    "df_transactions.to_csv('synthetic_transactions_with_null.csv', index=False)\n"
   ]
  },
  {
   "cell_type": "markdown",
   "metadata": {},
   "source": [
    "### OLD"
   ]
  },
  {
   "cell_type": "code",
   "execution_count": 24,
   "metadata": {},
   "outputs": [
    {
     "name": "stdout",
     "output_type": "stream",
     "text": [
      "\n",
      "Show those records with missing value\n",
      "Empty DataFrame\n",
      "Columns: [InvoiceNo, StockCode, Description, Quantity, InvoiceDate, UnitPrice, CustomerID, Country]\n",
      "Index: []\n"
     ]
    }
   ],
   "source": [
    "# show those records with missing value\n",
    "print('Show those records with missing value')\n",
    "df_missing = df_transactions[df_transactions['UnitPrice'].isna() == True]\n",
    "print(df_missing)"
   ]
  },
  {
   "cell_type": "code",
   "execution_count": 25,
   "metadata": {},
   "outputs": [
    {
     "name": "stdout",
     "output_type": "stream",
     "text": [
      "\n",
      "Impute missing values with median of that column\n",
      "Empty DataFrame\n",
      "Columns: [InvoiceNo, StockCode, Description, Quantity, InvoiceDate, UnitPrice, CustomerID, Country]\n",
      "Index: []\n"
     ]
    }
   ],
   "source": [
    "# impute missing values with median of that column\n",
    "print('Impute missing values with median of that column')\n",
    "df_imputed = df_missing.fillna(df_transactions['UnitPrice'].median())\n",
    "print(df_imputed)"
   ]
  },
  {
   "cell_type": "code",
   "execution_count": 6,
   "metadata": {},
   "outputs": [
    {
     "name": "stdout",
     "output_type": "stream",
     "text": [
      "Total sale per customer:\n"
     ]
    },
    {
     "data": {
      "text/html": [
       "<div>\n",
       "<style scoped>\n",
       "    .dataframe tbody tr th:only-of-type {\n",
       "        vertical-align: middle;\n",
       "    }\n",
       "\n",
       "    .dataframe tbody tr th {\n",
       "        vertical-align: top;\n",
       "    }\n",
       "\n",
       "    .dataframe thead th {\n",
       "        text-align: right;\n",
       "    }\n",
       "</style>\n",
       "<table border=\"1\" class=\"dataframe\">\n",
       "  <thead>\n",
       "    <tr style=\"text-align: right;\">\n",
       "      <th></th>\n",
       "      <th>TotalSale</th>\n",
       "      <th>InvoiceDate</th>\n",
       "    </tr>\n",
       "    <tr>\n",
       "      <th>CustomerID</th>\n",
       "      <th></th>\n",
       "      <th></th>\n",
       "    </tr>\n",
       "  </thead>\n",
       "  <tbody>\n",
       "    <tr>\n",
       "      <th>1</th>\n",
       "      <td>772.925226</td>\n",
       "      <td>2022-01-23</td>\n",
       "    </tr>\n",
       "    <tr>\n",
       "      <th>2</th>\n",
       "      <td>572.898079</td>\n",
       "      <td>2022-08-19</td>\n",
       "    </tr>\n",
       "    <tr>\n",
       "      <th>3</th>\n",
       "      <td>627.359128</td>\n",
       "      <td>2022-11-20</td>\n",
       "    </tr>\n",
       "    <tr>\n",
       "      <th>4</th>\n",
       "      <td>520.558260</td>\n",
       "      <td>2022-04-27</td>\n",
       "    </tr>\n",
       "    <tr>\n",
       "      <th>5</th>\n",
       "      <td>662.582657</td>\n",
       "      <td>2022-02-25</td>\n",
       "    </tr>\n",
       "  </tbody>\n",
       "</table>\n",
       "</div>"
      ],
      "text/plain": [
       "             TotalSale InvoiceDate\n",
       "CustomerID                        \n",
       "1           772.925226  2022-01-23\n",
       "2           572.898079  2022-08-19\n",
       "3           627.359128  2022-11-20\n",
       "4           520.558260  2022-04-27\n",
       "5           662.582657  2022-02-25"
      ]
     },
     "execution_count": 6,
     "metadata": {},
     "output_type": "execute_result"
    }
   ],
   "source": [
    "# load the dataset\n",
    "df_transactions = pd.read_csv('sample_transactions.csv', header=0)\n",
    "\n",
    "# calculate total sale in a new column\n",
    "df_transactions['TotalSale'] = df_transactions['UnitPrice'] * df_transactions['Quantity']\n",
    "\n",
    "# aggregate total sale per customer\n",
    "df_summary = df_transactions.groupby('CustomerID').agg({'TotalSale': 'sum', 'InvoiceDate':'first'})\n",
    "\n",
    "print('Total sale per customer:')\n",
    "df_summary.head()"
   ]
  },
  {
   "cell_type": "code",
   "execution_count": 18,
   "metadata": {},
   "outputs": [
    {
     "data": {
      "text/html": [
       "<div>\n",
       "<style scoped>\n",
       "    .dataframe tbody tr th:only-of-type {\n",
       "        vertical-align: middle;\n",
       "    }\n",
       "\n",
       "    .dataframe tbody tr th {\n",
       "        vertical-align: top;\n",
       "    }\n",
       "\n",
       "    .dataframe thead th {\n",
       "        text-align: right;\n",
       "    }\n",
       "</style>\n",
       "<table border=\"1\" class=\"dataframe\">\n",
       "  <thead>\n",
       "    <tr style=\"text-align: right;\">\n",
       "      <th></th>\n",
       "      <th>InvoiceNo</th>\n",
       "      <th>Quantity</th>\n",
       "      <th>UnitPrice</th>\n",
       "      <th>CustomerID</th>\n",
       "      <th>TotalSale</th>\n",
       "    </tr>\n",
       "  </thead>\n",
       "  <tbody>\n",
       "    <tr>\n",
       "      <th>count</th>\n",
       "      <td>397884.000000</td>\n",
       "      <td>397884.000000</td>\n",
       "      <td>397884.000000</td>\n",
       "      <td>397884.000000</td>\n",
       "      <td>397884.000000</td>\n",
       "    </tr>\n",
       "    <tr>\n",
       "      <th>mean</th>\n",
       "      <td>560616.934451</td>\n",
       "      <td>12.988238</td>\n",
       "      <td>3.116488</td>\n",
       "      <td>15294.423453</td>\n",
       "      <td>22.397000</td>\n",
       "    </tr>\n",
       "    <tr>\n",
       "      <th>std</th>\n",
       "      <td>13106.117773</td>\n",
       "      <td>179.331775</td>\n",
       "      <td>22.097877</td>\n",
       "      <td>1713.141560</td>\n",
       "      <td>309.071041</td>\n",
       "    </tr>\n",
       "    <tr>\n",
       "      <th>min</th>\n",
       "      <td>536365.000000</td>\n",
       "      <td>1.000000</td>\n",
       "      <td>0.001000</td>\n",
       "      <td>12346.000000</td>\n",
       "      <td>0.001000</td>\n",
       "    </tr>\n",
       "    <tr>\n",
       "      <th>25%</th>\n",
       "      <td>549234.000000</td>\n",
       "      <td>2.000000</td>\n",
       "      <td>1.250000</td>\n",
       "      <td>13969.000000</td>\n",
       "      <td>4.680000</td>\n",
       "    </tr>\n",
       "    <tr>\n",
       "      <th>50%</th>\n",
       "      <td>561893.000000</td>\n",
       "      <td>6.000000</td>\n",
       "      <td>1.950000</td>\n",
       "      <td>15159.000000</td>\n",
       "      <td>11.800000</td>\n",
       "    </tr>\n",
       "    <tr>\n",
       "      <th>75%</th>\n",
       "      <td>572090.000000</td>\n",
       "      <td>12.000000</td>\n",
       "      <td>3.750000</td>\n",
       "      <td>16795.000000</td>\n",
       "      <td>19.800000</td>\n",
       "    </tr>\n",
       "    <tr>\n",
       "      <th>max</th>\n",
       "      <td>581587.000000</td>\n",
       "      <td>80995.000000</td>\n",
       "      <td>8142.750000</td>\n",
       "      <td>18287.000000</td>\n",
       "      <td>168469.600000</td>\n",
       "    </tr>\n",
       "  </tbody>\n",
       "</table>\n",
       "</div>"
      ],
      "text/plain": [
       "           InvoiceNo       Quantity      UnitPrice     CustomerID  \\\n",
       "count  397884.000000  397884.000000  397884.000000  397884.000000   \n",
       "mean   560616.934451      12.988238       3.116488   15294.423453   \n",
       "std     13106.117773     179.331775      22.097877    1713.141560   \n",
       "min    536365.000000       1.000000       0.001000   12346.000000   \n",
       "25%    549234.000000       2.000000       1.250000   13969.000000   \n",
       "50%    561893.000000       6.000000       1.950000   15159.000000   \n",
       "75%    572090.000000      12.000000       3.750000   16795.000000   \n",
       "max    581587.000000   80995.000000    8142.750000   18287.000000   \n",
       "\n",
       "           TotalSale  \n",
       "count  397884.000000  \n",
       "mean       22.397000  \n",
       "std       309.071041  \n",
       "min         0.001000  \n",
       "25%         4.680000  \n",
       "50%        11.800000  \n",
       "75%        19.800000  \n",
       "max    168469.600000  "
      ]
     },
     "execution_count": 18,
     "metadata": {},
     "output_type": "execute_result"
    }
   ],
   "source": [
    "df_transactions.describe()"
   ]
  },
  {
   "cell_type": "code",
   "execution_count": 19,
   "metadata": {},
   "outputs": [
    {
     "name": "stdout",
     "output_type": "stream",
     "text": [
      "data type: <class 'pandas.core.series.Series'>\n"
     ]
    }
   ],
   "source": [
    "# Accessing single column\n",
    "col = df_transactions['InvoiceNo']\n",
    "print('data type:', type(col))"
   ]
  },
  {
   "cell_type": "code",
   "execution_count": 20,
   "metadata": {},
   "outputs": [
    {
     "name": "stdout",
     "output_type": "stream",
     "text": [
      "The number of unique customers is: 4338\n"
     ]
    }
   ],
   "source": [
    "# count of unique customer\n",
    "customer_count = df_transactions['CustomerID'].nunique()\n",
    "print(f\"The number of unique customers is: {customer_count}\")"
   ]
  },
  {
   "cell_type": "code",
   "execution_count": 21,
   "metadata": {},
   "outputs": [
    {
     "ename": "TypeError",
     "evalue": "'int' object is not subscriptable",
     "output_type": "error",
     "traceback": [
      "\u001b[1;31m---------------------------------------------------------------------------\u001b[0m",
      "\u001b[1;31mTypeError\u001b[0m                                 Traceback (most recent call last)",
      "Cell \u001b[1;32mIn[21], line 3\u001b[0m\n\u001b[0;32m      1\u001b[0m \u001b[38;5;66;03m# Show the top 10 customers based on the number of transactions\u001b[39;00m\n\u001b[0;32m      2\u001b[0m plt\u001b[38;5;241m.\u001b[39mfigure(figsize\u001b[38;5;241m=\u001b[39m(\u001b[38;5;241m10\u001b[39m, \u001b[38;5;241m6\u001b[39m))\n\u001b[1;32m----> 3\u001b[0m top_10_customers \u001b[38;5;241m=\u001b[39m \u001b[43mcustomer_count\u001b[49m\u001b[43m[\u001b[49m\u001b[43m:\u001b[49m\u001b[38;5;241;43m10\u001b[39;49m\u001b[43m]\u001b[49m\n\u001b[0;32m      4\u001b[0m top_10_customers\u001b[38;5;241m.\u001b[39mplot(kind\u001b[38;5;241m=\u001b[39m\u001b[38;5;124m'\u001b[39m\u001b[38;5;124mbar\u001b[39m\u001b[38;5;124m'\u001b[39m)\n\u001b[0;32m      5\u001b[0m plt\u001b[38;5;241m.\u001b[39mxlabel(\u001b[38;5;124m'\u001b[39m\u001b[38;5;124mCount\u001b[39m\u001b[38;5;124m'\u001b[39m)\n",
      "\u001b[1;31mTypeError\u001b[0m: 'int' object is not subscriptable"
     ]
    },
    {
     "data": {
      "text/plain": [
       "<Figure size 1000x600 with 0 Axes>"
      ]
     },
     "metadata": {},
     "output_type": "display_data"
    }
   ],
   "source": [
    "# Show the top 10 customers based on the number of transactions\n",
    "plt.figure(figsize=(10, 6))\n",
    "top_10_customers = customer_count[:10]\n",
    "top_10_customers.plot(kind='bar')\n",
    "plt.xlabel('Count')\n",
    "plt.ylabel('CustomerID')\n",
    "plt.show()"
   ]
  },
  {
   "cell_type": "code",
   "execution_count": 13,
   "metadata": {},
   "outputs": [
    {
     "data": {
      "text/html": [
       "<div>\n",
       "<style scoped>\n",
       "    .dataframe tbody tr th:only-of-type {\n",
       "        vertical-align: middle;\n",
       "    }\n",
       "\n",
       "    .dataframe tbody tr th {\n",
       "        vertical-align: top;\n",
       "    }\n",
       "\n",
       "    .dataframe thead th {\n",
       "        text-align: right;\n",
       "    }\n",
       "</style>\n",
       "<table border=\"1\" class=\"dataframe\">\n",
       "  <thead>\n",
       "    <tr style=\"text-align: right;\">\n",
       "      <th></th>\n",
       "      <th>InvoiceNo</th>\n",
       "      <th>StockCode</th>\n",
       "      <th>Description</th>\n",
       "      <th>Quantity</th>\n",
       "      <th>InvoiceDate</th>\n",
       "      <th>UnitPrice</th>\n",
       "      <th>CustomerID</th>\n",
       "      <th>Country</th>\n",
       "    </tr>\n",
       "  </thead>\n",
       "  <tbody>\n",
       "    <tr>\n",
       "      <th>2</th>\n",
       "      <td>548648</td>\n",
       "      <td>71459</td>\n",
       "      <td>HANGING JAM JAR T-LIGHT HOLDER</td>\n",
       "      <td>24</td>\n",
       "      <td>2020-04-01 13:20:00</td>\n",
       "      <td>0.85</td>\n",
       "      <td>12949</td>\n",
       "      <td>United Kingdom</td>\n",
       "    </tr>\n",
       "    <tr>\n",
       "      <th>5</th>\n",
       "      <td>565836</td>\n",
       "      <td>85152</td>\n",
       "      <td>HAND OVER THE CHOCOLATE   SIGN</td>\n",
       "      <td>48</td>\n",
       "      <td>2020-09-07 11:41:00</td>\n",
       "      <td>1.85</td>\n",
       "      <td>17511</td>\n",
       "      <td>United Kingdom</td>\n",
       "    </tr>\n",
       "    <tr>\n",
       "      <th>23</th>\n",
       "      <td>575622</td>\n",
       "      <td>23309</td>\n",
       "      <td>SET OF 60 I LOVE LONDON CAKE CASES</td>\n",
       "      <td>24</td>\n",
       "      <td>2020-11-10 13:13:00</td>\n",
       "      <td>0.55</td>\n",
       "      <td>16743</td>\n",
       "      <td>United Kingdom</td>\n",
       "    </tr>\n",
       "    <tr>\n",
       "      <th>33</th>\n",
       "      <td>555352</td>\n",
       "      <td>21242</td>\n",
       "      <td>RED RETROSPOT PLATE</td>\n",
       "      <td>96</td>\n",
       "      <td>2020-06-02 12:46:00</td>\n",
       "      <td>1.45</td>\n",
       "      <td>15838</td>\n",
       "      <td>United Kingdom</td>\n",
       "    </tr>\n",
       "    <tr>\n",
       "      <th>35</th>\n",
       "      <td>542373</td>\n",
       "      <td>21058</td>\n",
       "      <td>PARTY INVITES WOODLAND</td>\n",
       "      <td>24</td>\n",
       "      <td>2020-01-27 13:38:00</td>\n",
       "      <td>0.85</td>\n",
       "      <td>16767</td>\n",
       "      <td>United Kingdom</td>\n",
       "    </tr>\n",
       "  </tbody>\n",
       "</table>\n",
       "</div>"
      ],
      "text/plain": [
       "    InvoiceNo StockCode                          Description  Quantity  \\\n",
       "2      548648     71459       HANGING JAM JAR T-LIGHT HOLDER        24   \n",
       "5      565836     85152      HAND OVER THE CHOCOLATE   SIGN         48   \n",
       "23     575622     23309  SET OF 60 I LOVE LONDON CAKE CASES         24   \n",
       "33     555352     21242                 RED RETROSPOT PLATE         96   \n",
       "35     542373     21058               PARTY INVITES WOODLAND        24   \n",
       "\n",
       "            InvoiceDate  UnitPrice  CustomerID         Country  \n",
       "2   2020-04-01 13:20:00       0.85       12949  United Kingdom  \n",
       "5   2020-09-07 11:41:00       1.85       17511  United Kingdom  \n",
       "23  2020-11-10 13:13:00       0.55       16743  United Kingdom  \n",
       "33  2020-06-02 12:46:00       1.45       15838  United Kingdom  \n",
       "35  2020-01-27 13:38:00       0.85       16767  United Kingdom  "
      ]
     },
     "execution_count": 13,
     "metadata": {},
     "output_type": "execute_result"
    }
   ],
   "source": [
    "# Filtering\n",
    "result = df_transactions.query('Quantity >= 20 & Country == \"United Kingdom\"')\n",
    "result.head()"
   ]
  },
  {
   "cell_type": "code",
   "execution_count": 15,
   "metadata": {},
   "outputs": [
    {
     "name": "stdout",
     "output_type": "stream",
     "text": [
      "Step 1: masking\n",
      "0         False\n",
      "1         False\n",
      "2          True\n",
      "3         False\n",
      "4         False\n",
      "          ...  \n",
      "397879     True\n",
      "397880     True\n",
      "397881    False\n",
      "397882    False\n",
      "397883    False\n",
      "Name: Quantity, Length: 397884, dtype: bool\n"
     ]
    }
   ],
   "source": [
    "mask = df_transactions['Quantity'] >= 20\n",
    "print('Step 1: masking')\n",
    "print(mask)"
   ]
  },
  {
   "cell_type": "code",
   "execution_count": 17,
   "metadata": {},
   "outputs": [
    {
     "name": "stdout",
     "output_type": "stream",
     "text": [
      "\n",
      "Step 2: filter with mask\n"
     ]
    },
    {
     "data": {
      "text/html": [
       "<div>\n",
       "<style scoped>\n",
       "    .dataframe tbody tr th:only-of-type {\n",
       "        vertical-align: middle;\n",
       "    }\n",
       "\n",
       "    .dataframe tbody tr th {\n",
       "        vertical-align: top;\n",
       "    }\n",
       "\n",
       "    .dataframe thead th {\n",
       "        text-align: right;\n",
       "    }\n",
       "</style>\n",
       "<table border=\"1\" class=\"dataframe\">\n",
       "  <thead>\n",
       "    <tr style=\"text-align: right;\">\n",
       "      <th></th>\n",
       "      <th>InvoiceNo</th>\n",
       "      <th>StockCode</th>\n",
       "      <th>Description</th>\n",
       "      <th>Quantity</th>\n",
       "      <th>InvoiceDate</th>\n",
       "      <th>UnitPrice</th>\n",
       "      <th>CustomerID</th>\n",
       "      <th>Country</th>\n",
       "    </tr>\n",
       "  </thead>\n",
       "  <tbody>\n",
       "    <tr>\n",
       "      <th>2</th>\n",
       "      <td>548648</td>\n",
       "      <td>71459</td>\n",
       "      <td>HANGING JAM JAR T-LIGHT HOLDER</td>\n",
       "      <td>24</td>\n",
       "      <td>2020-04-01 13:20:00</td>\n",
       "      <td>0.85</td>\n",
       "      <td>12949</td>\n",
       "      <td>United Kingdom</td>\n",
       "    </tr>\n",
       "    <tr>\n",
       "      <th>5</th>\n",
       "      <td>565836</td>\n",
       "      <td>85152</td>\n",
       "      <td>HAND OVER THE CHOCOLATE   SIGN</td>\n",
       "      <td>48</td>\n",
       "      <td>2020-09-07 11:41:00</td>\n",
       "      <td>1.85</td>\n",
       "      <td>17511</td>\n",
       "      <td>United Kingdom</td>\n",
       "    </tr>\n",
       "    <tr>\n",
       "      <th>21</th>\n",
       "      <td>573511</td>\n",
       "      <td>22195</td>\n",
       "      <td>LARGE HEART MEASURING SPOONS</td>\n",
       "      <td>24</td>\n",
       "      <td>2020-10-31 12:25:00</td>\n",
       "      <td>1.65</td>\n",
       "      <td>12347</td>\n",
       "      <td>Iceland</td>\n",
       "    </tr>\n",
       "    <tr>\n",
       "      <th>23</th>\n",
       "      <td>575622</td>\n",
       "      <td>23309</td>\n",
       "      <td>SET OF 60 I LOVE LONDON CAKE CASES</td>\n",
       "      <td>24</td>\n",
       "      <td>2020-11-10 13:13:00</td>\n",
       "      <td>0.55</td>\n",
       "      <td>16743</td>\n",
       "      <td>United Kingdom</td>\n",
       "    </tr>\n",
       "    <tr>\n",
       "      <th>33</th>\n",
       "      <td>555352</td>\n",
       "      <td>21242</td>\n",
       "      <td>RED RETROSPOT PLATE</td>\n",
       "      <td>96</td>\n",
       "      <td>2020-06-02 12:46:00</td>\n",
       "      <td>1.45</td>\n",
       "      <td>15838</td>\n",
       "      <td>United Kingdom</td>\n",
       "    </tr>\n",
       "  </tbody>\n",
       "</table>\n",
       "</div>"
      ],
      "text/plain": [
       "    InvoiceNo StockCode                          Description  Quantity  \\\n",
       "2      548648     71459       HANGING JAM JAR T-LIGHT HOLDER        24   \n",
       "5      565836     85152      HAND OVER THE CHOCOLATE   SIGN         48   \n",
       "21     573511     22195         LARGE HEART MEASURING SPOONS        24   \n",
       "23     575622     23309  SET OF 60 I LOVE LONDON CAKE CASES         24   \n",
       "33     555352     21242                 RED RETROSPOT PLATE         96   \n",
       "\n",
       "            InvoiceDate  UnitPrice  CustomerID         Country  \n",
       "2   2020-04-01 13:20:00       0.85       12949  United Kingdom  \n",
       "5   2020-09-07 11:41:00       1.85       17511  United Kingdom  \n",
       "21  2020-10-31 12:25:00       1.65       12347         Iceland  \n",
       "23  2020-11-10 13:13:00       0.55       16743  United Kingdom  \n",
       "33  2020-06-02 12:46:00       1.45       15838  United Kingdom  "
      ]
     },
     "execution_count": 17,
     "metadata": {},
     "output_type": "execute_result"
    }
   ],
   "source": [
    "result = df_transactions[mask]\n",
    "print('\\nStep 2: filter with mask')\n",
    "result.head()"
   ]
  },
  {
   "cell_type": "code",
   "execution_count": null,
   "metadata": {},
   "outputs": [],
   "source": []
  }
 ],
 "metadata": {
  "kernelspec": {
   "display_name": "Python 3.10.4 64-bit",
   "language": "python",
   "name": "python3"
  },
  "language_info": {
   "codemirror_mode": {
    "name": "ipython",
    "version": 3
   },
   "file_extension": ".py",
   "mimetype": "text/x-python",
   "name": "python",
   "nbconvert_exporter": "python",
   "pygments_lexer": "ipython3",
   "version": "3.10.13"
  },
  "orig_nbformat": 4,
  "vscode": {
   "interpreter": {
    "hash": "78ce49e42d7c492c79e6a8d653ea533a45a9eef8de4464c070b5cead8310fec0"
   }
  }
 },
 "nbformat": 4,
 "nbformat_minor": 2
}
