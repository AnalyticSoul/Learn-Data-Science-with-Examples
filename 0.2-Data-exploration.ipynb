{
 "cells": [
  {
   "cell_type": "code",
   "execution_count": 1,
   "metadata": {},
   "outputs": [],
   "source": [
    "import pandas as pd\n",
    "import numpy as np\n",
    "\n",
    "import matplotlib.pyplot as plt\n",
    "import seaborn as sns\n",
    "sns.set()\n",
    "%matplotlib inline"
   ]
  },
  {
   "cell_type": "code",
   "execution_count": 2,
   "metadata": {},
   "outputs": [
    {
     "name": "stdout",
     "output_type": "stream",
     "text": [
      "Dimension of the dataset\n",
      "(397884, 8)\n",
      "\n",
      "Dataset sample\n"
     ]
    },
    {
     "data": {
      "text/html": [
       "<div>\n",
       "<style scoped>\n",
       "    .dataframe tbody tr th:only-of-type {\n",
       "        vertical-align: middle;\n",
       "    }\n",
       "\n",
       "    .dataframe tbody tr th {\n",
       "        vertical-align: top;\n",
       "    }\n",
       "\n",
       "    .dataframe thead th {\n",
       "        text-align: right;\n",
       "    }\n",
       "</style>\n",
       "<table border=\"1\" class=\"dataframe\">\n",
       "  <thead>\n",
       "    <tr style=\"text-align: right;\">\n",
       "      <th></th>\n",
       "      <th>InvoiceNo</th>\n",
       "      <th>StockCode</th>\n",
       "      <th>Description</th>\n",
       "      <th>Quantity</th>\n",
       "      <th>InvoiceDate</th>\n",
       "      <th>UnitPrice</th>\n",
       "      <th>CustomerID</th>\n",
       "      <th>Country</th>\n",
       "    </tr>\n",
       "  </thead>\n",
       "  <tbody>\n",
       "    <tr>\n",
       "      <th>0</th>\n",
       "      <td>546729</td>\n",
       "      <td>22775</td>\n",
       "      <td>PURPLE DRAWERKNOB ACRYLIC EDWARDIAN</td>\n",
       "      <td>12</td>\n",
       "      <td>2020-03-16 11:36:00</td>\n",
       "      <td>1.25</td>\n",
       "      <td>18231</td>\n",
       "      <td>United Kingdom</td>\n",
       "    </tr>\n",
       "    <tr>\n",
       "      <th>1</th>\n",
       "      <td>559898</td>\n",
       "      <td>21868</td>\n",
       "      <td>POTTING SHED TEA MUG</td>\n",
       "      <td>6</td>\n",
       "      <td>2020-07-13 12:18:00</td>\n",
       "      <td>1.25</td>\n",
       "      <td>16225</td>\n",
       "      <td>United Kingdom</td>\n",
       "    </tr>\n",
       "    <tr>\n",
       "      <th>2</th>\n",
       "      <td>548648</td>\n",
       "      <td>71459</td>\n",
       "      <td>HANGING JAM JAR T-LIGHT HOLDER</td>\n",
       "      <td>24</td>\n",
       "      <td>2020-04-01 13:20:00</td>\n",
       "      <td>0.85</td>\n",
       "      <td>12949</td>\n",
       "      <td>United Kingdom</td>\n",
       "    </tr>\n",
       "    <tr>\n",
       "      <th>3</th>\n",
       "      <td>540543</td>\n",
       "      <td>22173</td>\n",
       "      <td>METAL 4 HOOK HANGER FRENCH CHATEAU</td>\n",
       "      <td>4</td>\n",
       "      <td>2020-01-09 15:23:00</td>\n",
       "      <td>2.95</td>\n",
       "      <td>14395</td>\n",
       "      <td>United Kingdom</td>\n",
       "    </tr>\n",
       "    <tr>\n",
       "      <th>4</th>\n",
       "      <td>561390</td>\n",
       "      <td>20726</td>\n",
       "      <td>LUNCH BAG WOODLAND</td>\n",
       "      <td>10</td>\n",
       "      <td>2020-07-27 09:52:00</td>\n",
       "      <td>1.65</td>\n",
       "      <td>17068</td>\n",
       "      <td>United Kingdom</td>\n",
       "    </tr>\n",
       "  </tbody>\n",
       "</table>\n",
       "</div>"
      ],
      "text/plain": [
       "   InvoiceNo StockCode                          Description  Quantity  \\\n",
       "0     546729     22775  PURPLE DRAWERKNOB ACRYLIC EDWARDIAN        12   \n",
       "1     559898     21868                 POTTING SHED TEA MUG         6   \n",
       "2     548648     71459       HANGING JAM JAR T-LIGHT HOLDER        24   \n",
       "3     540543     22173   METAL 4 HOOK HANGER FRENCH CHATEAU         4   \n",
       "4     561390     20726                   LUNCH BAG WOODLAND        10   \n",
       "\n",
       "           InvoiceDate  UnitPrice  CustomerID         Country  \n",
       "0  2020-03-16 11:36:00       1.25       18231  United Kingdom  \n",
       "1  2020-07-13 12:18:00       1.25       16225  United Kingdom  \n",
       "2  2020-04-01 13:20:00       0.85       12949  United Kingdom  \n",
       "3  2020-01-09 15:23:00       2.95       14395  United Kingdom  \n",
       "4  2020-07-27 09:52:00       1.65       17068  United Kingdom  "
      ]
     },
     "execution_count": 2,
     "metadata": {},
     "output_type": "execute_result"
    }
   ],
   "source": [
    "df_transactions = pd.read_csv('retail_transactions.csv', header=0)\n",
    "print('Dimension of the dataset')\n",
    "print(df_transactions.shape)\n",
    "\n",
    "print('\\nDataset sample')\n",
    "df_transactions.head()"
   ]
  },
  {
   "cell_type": "code",
   "execution_count": 3,
   "metadata": {},
   "outputs": [
    {
     "data": {
      "text/html": [
       "<div>\n",
       "<style scoped>\n",
       "    .dataframe tbody tr th:only-of-type {\n",
       "        vertical-align: middle;\n",
       "    }\n",
       "\n",
       "    .dataframe tbody tr th {\n",
       "        vertical-align: top;\n",
       "    }\n",
       "\n",
       "    .dataframe thead th {\n",
       "        text-align: right;\n",
       "    }\n",
       "</style>\n",
       "<table border=\"1\" class=\"dataframe\">\n",
       "  <thead>\n",
       "    <tr style=\"text-align: right;\">\n",
       "      <th></th>\n",
       "      <th>InvoiceNo</th>\n",
       "      <th>Quantity</th>\n",
       "      <th>UnitPrice</th>\n",
       "      <th>CustomerID</th>\n",
       "    </tr>\n",
       "  </thead>\n",
       "  <tbody>\n",
       "    <tr>\n",
       "      <th>count</th>\n",
       "      <td>397884.000000</td>\n",
       "      <td>397884.000000</td>\n",
       "      <td>397884.000000</td>\n",
       "      <td>397884.000000</td>\n",
       "    </tr>\n",
       "    <tr>\n",
       "      <th>mean</th>\n",
       "      <td>560616.934451</td>\n",
       "      <td>12.988238</td>\n",
       "      <td>3.116488</td>\n",
       "      <td>15294.423453</td>\n",
       "    </tr>\n",
       "    <tr>\n",
       "      <th>std</th>\n",
       "      <td>13106.117773</td>\n",
       "      <td>179.331775</td>\n",
       "      <td>22.097877</td>\n",
       "      <td>1713.141560</td>\n",
       "    </tr>\n",
       "    <tr>\n",
       "      <th>min</th>\n",
       "      <td>536365.000000</td>\n",
       "      <td>1.000000</td>\n",
       "      <td>0.001000</td>\n",
       "      <td>12346.000000</td>\n",
       "    </tr>\n",
       "    <tr>\n",
       "      <th>25%</th>\n",
       "      <td>549234.000000</td>\n",
       "      <td>2.000000</td>\n",
       "      <td>1.250000</td>\n",
       "      <td>13969.000000</td>\n",
       "    </tr>\n",
       "    <tr>\n",
       "      <th>50%</th>\n",
       "      <td>561893.000000</td>\n",
       "      <td>6.000000</td>\n",
       "      <td>1.950000</td>\n",
       "      <td>15159.000000</td>\n",
       "    </tr>\n",
       "    <tr>\n",
       "      <th>75%</th>\n",
       "      <td>572090.000000</td>\n",
       "      <td>12.000000</td>\n",
       "      <td>3.750000</td>\n",
       "      <td>16795.000000</td>\n",
       "    </tr>\n",
       "    <tr>\n",
       "      <th>max</th>\n",
       "      <td>581587.000000</td>\n",
       "      <td>80995.000000</td>\n",
       "      <td>8142.750000</td>\n",
       "      <td>18287.000000</td>\n",
       "    </tr>\n",
       "  </tbody>\n",
       "</table>\n",
       "</div>"
      ],
      "text/plain": [
       "           InvoiceNo       Quantity      UnitPrice     CustomerID\n",
       "count  397884.000000  397884.000000  397884.000000  397884.000000\n",
       "mean   560616.934451      12.988238       3.116488   15294.423453\n",
       "std     13106.117773     179.331775      22.097877    1713.141560\n",
       "min    536365.000000       1.000000       0.001000   12346.000000\n",
       "25%    549234.000000       2.000000       1.250000   13969.000000\n",
       "50%    561893.000000       6.000000       1.950000   15159.000000\n",
       "75%    572090.000000      12.000000       3.750000   16795.000000\n",
       "max    581587.000000   80995.000000    8142.750000   18287.000000"
      ]
     },
     "execution_count": 3,
     "metadata": {},
     "output_type": "execute_result"
    }
   ],
   "source": [
    "df_transactions.describe()"
   ]
  },
  {
   "cell_type": "code",
   "execution_count": 4,
   "metadata": {},
   "outputs": [
    {
     "name": "stdout",
     "output_type": "stream",
     "text": [
      "data type: <class 'pandas.core.series.Series'>\n"
     ]
    }
   ],
   "source": [
    "# Accessing single column\n",
    "col = df_transactions['InvoiceNo']\n",
    "print('data type:', type(col))"
   ]
  },
  {
   "cell_type": "code",
   "execution_count": 11,
   "metadata": {},
   "outputs": [
    {
     "name": "stdout",
     "output_type": "stream",
     "text": [
      "The number of unique customers is: 4338\n"
     ]
    }
   ],
   "source": [
    "# count of unique customer\n",
    "customer_count = df_transactions['CustomerID'].nunique()\n",
    "print(f\"The number of unique customers is: {customer_count}\")"
   ]
  },
  {
   "cell_type": "code",
   "execution_count": 6,
   "metadata": {},
   "outputs": [
    {
     "data": {
      "image/png": "[encoded data removed]",
      "text/plain": [
       "<Figure size 1000x600 with 1 Axes>"
      ]
     },
     "metadata": {},
     "output_type": "display_data"
    }
   ],
   "source": [
    "# Show the top 10 customers based on the number of transactions\n",
    "plt.figure(figsize=(10, 6))\n",
    "top_10_customers = customer_count[:10]\n",
    "top_10_customers.plot(kind='bar')\n",
    "plt.xlabel('Count')\n",
    "plt.ylabel('CustomerID')\n",
    "plt.show()"
   ]
  },
  {
   "cell_type": "code",
   "execution_count": 7,
   "metadata": {},
   "outputs": [
    {
     "name": "stdout",
     "output_type": "stream",
     "text": [
      "        InvoiceNo StockCode                          Description  Quantity  \\\n",
      "2          548648     71459       HANGING JAM JAR T-LIGHT HOLDER        24   \n",
      "5          565836     85152      HAND OVER THE CHOCOLATE   SIGN         48   \n",
      "21         573511     22195         LARGE HEART MEASURING SPOONS        24   \n",
      "23         575622     23309  SET OF 60 I LOVE LONDON CAKE CASES         24   \n",
      "33         555352     21242                 RED RETROSPOT PLATE         96   \n",
      "...           ...       ...                                  ...       ...   \n",
      "397875     545340     22050          PINK PAISLEY ROSE GIFT WRAP        25   \n",
      "397877     558993     22998         TRAVEL CARD WALLET KEEP CALM        48   \n",
      "397878     573362     22155               STAR DECORATION RUSTIC        48   \n",
      "397879     567380     23187     FRENCH STYLE STORAGE JAR BONBONS        48   \n",
      "397880     548154     21212      PACK OF 72 RETROSPOT CAKE CASES        24   \n",
      "\n",
      "                InvoiceDate  UnitPrice  CustomerID         Country  \n",
      "2       2020-04-01 13:20:00       0.85       12949  United Kingdom  \n",
      "5       2020-09-07 11:41:00       1.85       17511  United Kingdom  \n",
      "21      2020-10-31 12:25:00       1.65       12347         Iceland  \n",
      "23      2020-11-10 13:13:00       0.55       16743  United Kingdom  \n",
      "33      2020-06-02 12:46:00       1.45       15838  United Kingdom  \n",
      "...                     ...        ...         ...             ...  \n",
      "397875  2020-03-02 08:41:00       0.42       15416  United Kingdom  \n",
      "397877  2020-07-05 11:49:00       0.42       16729  United Kingdom  \n",
      "397878  2020-10-30 13:06:00       0.42       12597           Spain  \n",
      "397879  2020-09-20 10:06:00       0.29       12620          France  \n",
      "397880  2020-03-29 13:06:00       0.55       17675  United Kingdom  \n",
      "\n",
      "[59393 rows x 8 columns]\n"
     ]
    }
   ],
   "source": [
    "# Filtering\n",
    "result = df_transactions.query('Quantity >= 20')\n",
    "print(result)"
   ]
  },
  {
   "cell_type": "code",
   "execution_count": 8,
   "metadata": {},
   "outputs": [
    {
     "name": "stdout",
     "output_type": "stream",
     "text": [
      "Step 1: masking\n",
      "0         False\n",
      "1         False\n",
      "2          True\n",
      "3         False\n",
      "4         False\n",
      "          ...  \n",
      "397879     True\n",
      "397880     True\n",
      "397881    False\n",
      "397882    False\n",
      "397883    False\n",
      "Name: Quantity, Length: 397884, dtype: bool\n",
      "\n",
      "Step 2: filter with mask\n",
      "        InvoiceNo StockCode                          Description  Quantity  \\\n",
      "2          548648     71459       HANGING JAM JAR T-LIGHT HOLDER        24   \n",
      "5          565836     85152      HAND OVER THE CHOCOLATE   SIGN         48   \n",
      "21         573511     22195         LARGE HEART MEASURING SPOONS        24   \n",
      "23         575622     23309  SET OF 60 I LOVE LONDON CAKE CASES         24   \n",
      "33         555352     21242                 RED RETROSPOT PLATE         96   \n",
      "...           ...       ...                                  ...       ...   \n",
      "397875     545340     22050          PINK PAISLEY ROSE GIFT WRAP        25   \n",
      "397877     558993     22998         TRAVEL CARD WALLET KEEP CALM        48   \n",
      "397878     573362     22155               STAR DECORATION RUSTIC        48   \n",
      "397879     567380     23187     FRENCH STYLE STORAGE JAR BONBONS        48   \n",
      "397880     548154     21212      PACK OF 72 RETROSPOT CAKE CASES        24   \n",
      "\n",
      "                InvoiceDate  UnitPrice  CustomerID         Country  \n",
      "2       2020-04-01 13:20:00       0.85       12949  United Kingdom  \n",
      "5       2020-09-07 11:41:00       1.85       17511  United Kingdom  \n",
      "21      2020-10-31 12:25:00       1.65       12347         Iceland  \n",
      "23      2020-11-10 13:13:00       0.55       16743  United Kingdom  \n",
      "33      2020-06-02 12:46:00       1.45       15838  United Kingdom  \n",
      "...                     ...        ...         ...             ...  \n",
      "397875  2020-03-02 08:41:00       0.42       15416  United Kingdom  \n",
      "397877  2020-07-05 11:49:00       0.42       16729  United Kingdom  \n",
      "397878  2020-10-30 13:06:00       0.42       12597           Spain  \n",
      "397879  2020-09-20 10:06:00       0.29       12620          France  \n",
      "397880  2020-03-29 13:06:00       0.55       17675  United Kingdom  \n",
      "\n",
      "[59393 rows x 8 columns]\n"
     ]
    }
   ],
   "source": [
    "mask = df_transactions['Quantity'] >= 20\n",
    "print('Step 1: masking')\n",
    "print(mask)\n",
    "result = df_transactions[mask]\n",
    "print('\\nStep 2: filter with mask')\n",
    "print(result)"
   ]
  },
  {
   "cell_type": "code",
   "execution_count": null,
   "metadata": {},
   "outputs": [],
   "source": []
  }
 ],
 "metadata": {
  "kernelspec": {
   "display_name": "Python 3.10.4 64-bit",
   "language": "python",
   "name": "python3"
  },
  "language_info": {
   "codemirror_mode": {
    "name": "ipython",
    "version": 3
   },
   "file_extension": ".py",
   "mimetype": "text/x-python",
   "name": "python",
   "nbconvert_exporter": "python",
   "pygments_lexer": "ipython3",
   "version": "3.10.13"
  },
  "orig_nbformat": 4,
  "vscode": {
   "interpreter": {
    "hash": "78ce49e42d7c492c79e6a8d653ea533a45a9eef8de4464c070b5cead8310fec0"
   }
  }
 },
 "nbformat": 4,
 "nbformat_minor": 2
}
